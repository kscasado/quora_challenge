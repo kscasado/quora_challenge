{
 "cells": [
  {
   "cell_type": "code",
   "execution_count": 1,
   "metadata": {},
   "outputs": [
    {
     "name": "stderr",
     "output_type": "stream",
     "text": [
      "Using TensorFlow backend.\n"
     ]
    }
   ],
   "source": [
    "import pandas as pd\n",
    "import numpy as np\n",
    "import re\n",
    "from keras.models import Model\n",
    "from keras.layers.core import Dropout, Dense, Flatten, Activation\n",
    "from keras.layers.embeddings import Embedding\n",
    "from keras.layers.wrappers import Bidirectional\n",
    "from keras.layers.recurrent import GRU\n",
    "from keras.layers.pooling import MaxPooling2D\n",
    "from keras.layers import Merge,Input\n"
   ]
  },
  {
   "cell_type": "code",
   "execution_count": 2,
   "metadata": {
    "collapsed": true
   },
   "outputs": [],
   "source": [
    "df = pd.read_csv('quora_duplicate_questions.tsv',sep='\\t',encoding='utf8')"
   ]
  },
  {
   "cell_type": "code",
   "execution_count": 3,
   "metadata": {
    "collapsed": true
   },
   "outputs": [],
   "source": [
    "df = df.dropna()"
   ]
  },
  {
   "cell_type": "code",
   "execution_count": 4,
   "metadata": {
    "collapsed": true
   },
   "outputs": [],
   "source": [
    "import spacy\n",
    "#from gensim.utils import lemmatize\n",
    "nlp = spacy.load('en')"
   ]
  },
  {
   "cell_type": "code",
   "execution_count": 5,
   "metadata": {
    "collapsed": true
   },
   "outputs": [],
   "source": [
    "def clean_data(string):\n",
    "    #try: \n",
    "    rx = re.compile('\\W+')\n",
    "    res = rx.sub(' ',string).strip()\n",
    "    res = res.replace('\\'','')\n",
    "    return ' '.join([x.lemma_ for x in nlp(res) if not x.is_stop ])\n",
    "\n",
    "    #except TypeError:\n",
    "        #print('TypeError',string)"
   ]
  },
  {
   "cell_type": "code",
   "execution_count": 6,
   "metadata": {
    "collapsed": true
   },
   "outputs": [],
   "source": [
    "df['q1_clean'] = df['question1'].apply(lambda x: clean_data(x))\n",
    "df['q2_clean'] = df['question2'].apply(lambda x: clean_data(x))"
   ]
  },
  {
   "cell_type": "code",
   "execution_count": 7,
   "metadata": {},
   "outputs": [
    {
     "data": {
      "text/html": [
       "<div>\n",
       "<table border=\"1\" class=\"dataframe\">\n",
       "  <thead>\n",
       "    <tr style=\"text-align: right;\">\n",
       "      <th></th>\n",
       "      <th>id</th>\n",
       "      <th>qid1</th>\n",
       "      <th>qid2</th>\n",
       "      <th>question1</th>\n",
       "      <th>question2</th>\n",
       "      <th>is_duplicate</th>\n",
       "      <th>q1_clean</th>\n",
       "      <th>q2_clean</th>\n",
       "    </tr>\n",
       "  </thead>\n",
       "  <tbody>\n",
       "    <tr>\n",
       "      <th>0</th>\n",
       "      <td>0</td>\n",
       "      <td>1</td>\n",
       "      <td>2</td>\n",
       "      <td>What is the step by step guide to invest in sh...</td>\n",
       "      <td>What is the step by step guide to invest in sh...</td>\n",
       "      <td>0</td>\n",
       "      <td>step step guide invest share market india</td>\n",
       "      <td>step step guide invest share market</td>\n",
       "    </tr>\n",
       "    <tr>\n",
       "      <th>1</th>\n",
       "      <td>1</td>\n",
       "      <td>3</td>\n",
       "      <td>4</td>\n",
       "      <td>What is the story of Kohinoor (Koh-i-Noor) Dia...</td>\n",
       "      <td>What would happen if the Indian government sto...</td>\n",
       "      <td>0</td>\n",
       "      <td>story kohinoor koh noor diamond</td>\n",
       "      <td>happen indian government steal kohinoor koh no...</td>\n",
       "    </tr>\n",
       "    <tr>\n",
       "      <th>2</th>\n",
       "      <td>2</td>\n",
       "      <td>5</td>\n",
       "      <td>6</td>\n",
       "      <td>How can I increase the speed of my internet co...</td>\n",
       "      <td>How can Internet speed be increased by hacking...</td>\n",
       "      <td>0</td>\n",
       "      <td>increase speed internet connection vpn</td>\n",
       "      <td>internet speed increase hack dns</td>\n",
       "    </tr>\n",
       "    <tr>\n",
       "      <th>3</th>\n",
       "      <td>3</td>\n",
       "      <td>7</td>\n",
       "      <td>8</td>\n",
       "      <td>Why am I mentally very lonely? How can I solve...</td>\n",
       "      <td>Find the remainder when [math]23^{24}[/math] i...</td>\n",
       "      <td>0</td>\n",
       "      <td>mentally lonely solve</td>\n",
       "      <td>find remainder math 23 24 math divide 24 23</td>\n",
       "    </tr>\n",
       "    <tr>\n",
       "      <th>4</th>\n",
       "      <td>4</td>\n",
       "      <td>9</td>\n",
       "      <td>10</td>\n",
       "      <td>Which one dissolve in water quikly sugar, salt...</td>\n",
       "      <td>Which fish would survive in salt water?</td>\n",
       "      <td>0</td>\n",
       "      <td>dissolve water quikly sugar salt methane carbo...</td>\n",
       "      <td>fish survive salt water</td>\n",
       "    </tr>\n",
       "  </tbody>\n",
       "</table>\n",
       "</div>"
      ],
      "text/plain": [
       "   id  qid1  qid2                                          question1  \\\n",
       "0   0     1     2  What is the step by step guide to invest in sh...   \n",
       "1   1     3     4  What is the story of Kohinoor (Koh-i-Noor) Dia...   \n",
       "2   2     5     6  How can I increase the speed of my internet co...   \n",
       "3   3     7     8  Why am I mentally very lonely? How can I solve...   \n",
       "4   4     9    10  Which one dissolve in water quikly sugar, salt...   \n",
       "\n",
       "                                           question2  is_duplicate  \\\n",
       "0  What is the step by step guide to invest in sh...             0   \n",
       "1  What would happen if the Indian government sto...             0   \n",
       "2  How can Internet speed be increased by hacking...             0   \n",
       "3  Find the remainder when [math]23^{24}[/math] i...             0   \n",
       "4            Which fish would survive in salt water?             0   \n",
       "\n",
       "                                            q1_clean  \\\n",
       "0          step step guide invest share market india   \n",
       "1                    story kohinoor koh noor diamond   \n",
       "2             increase speed internet connection vpn   \n",
       "3                              mentally lonely solve   \n",
       "4  dissolve water quikly sugar salt methane carbo...   \n",
       "\n",
       "                                            q2_clean  \n",
       "0                step step guide invest share market  \n",
       "1  happen indian government steal kohinoor koh no...  \n",
       "2                   internet speed increase hack dns  \n",
       "3        find remainder math 23 24 math divide 24 23  \n",
       "4                            fish survive salt water  "
      ]
     },
     "execution_count": 7,
     "metadata": {},
     "output_type": "execute_result"
    }
   ],
   "source": [
    "df.head()"
   ]
  },
  {
   "cell_type": "code",
   "execution_count": 8,
   "metadata": {},
   "outputs": [
    {
     "name": "stdout",
     "output_type": "stream",
     "text": [
      "q1_counts \n",
      " count    404288.000000\n",
      "mean          5.222468\n",
      "std           2.913420\n",
      "min           0.000000\n",
      "25%           3.000000\n",
      "50%           5.000000\n",
      "75%           6.000000\n",
      "max          68.000000\n",
      "Name: q1_clean, dtype: float64\n",
      "q2_counts \n",
      " count    404288.000000\n",
      "mean          5.278838\n",
      "std           3.182402\n",
      "min           0.000000\n",
      "25%           3.000000\n",
      "50%           4.000000\n",
      "75%           6.000000\n",
      "max          92.000000\n",
      "Name: q2_clean, dtype: float64\n"
     ]
    }
   ],
   "source": [
    "print('q1_counts \\n',df['q1_clean'].apply(lambda x: len(x.split())).describe())\n",
    "print('q2_counts \\n',df['q2_clean'].apply(lambda x: len(x.split())).describe())"
   ]
  },
  {
   "cell_type": "code",
   "execution_count": null,
   "metadata": {
    "collapsed": true
   },
   "outputs": [],
   "source": [
    "word_vecs =np.array([word.vector for word in doc for doc in nlp.pipe(df['question1'], n_threads=50)])"
   ]
  },
  {
   "cell_type": "code",
   "execution_count": 10,
   "metadata": {
    "collapsed": true
   },
   "outputs": [],
   "source": [
    "def build_vocab(string):\n",
    "    for x in string.split():\n",
    "        vocab.add(x)\n",
    "        lexicon.append(x)\n",
    "    return"
   ]
  },
  {
   "cell_type": "code",
   "execution_count": 11,
   "metadata": {
    "collapsed": true
   },
   "outputs": [],
   "source": [
    "vocab = set()\n",
    "lexicon = []"
   ]
  },
  {
   "cell_type": "code",
   "execution_count": 12,
   "metadata": {
    "collapsed": true
   },
   "outputs": [],
   "source": [
    "_ = df['q1_clean'].apply(lambda x: build_vocab(x))\n",
    "_ = df['q2_clean'].apply(lambda x: build_vocab(x))"
   ]
  },
  {
   "cell_type": "code",
   "execution_count": 13,
   "metadata": {
    "collapsed": true
   },
   "outputs": [],
   "source": [
    "vocab_size = len(vocab)"
   ]
  },
  {
   "cell_type": "code",
   "execution_count": 14,
   "metadata": {},
   "outputs": [
    {
     "data": {
      "text/plain": [
       "77092"
      ]
     },
     "execution_count": 14,
     "metadata": {},
     "output_type": "execute_result"
    }
   ],
   "source": [
    "vocab_size"
   ]
  },
  {
   "cell_type": "code",
   "execution_count": 15,
   "metadata": {
    "collapsed": true
   },
   "outputs": [],
   "source": [
    "def generate_labels(inputs, cnter,max_len,vocab_len):\n",
    "    np_input = []\n",
    "    \n",
    "    for sentences in inputs:\n",
    "        sen  = np.full(max_len,vocab_len)\n",
    "        for idx,word in enumerate(sentences.split()):\n",
    "            if(idx<max_len):\n",
    "                sen[idx] = cnter.index(word)\n",
    "        np_input.append(sen)\n",
    "        \n",
    "    return np.array(np_input).astype(np.int)\n",
    "        \n",
    "        "
   ]
  },
  {
   "cell_type": "code",
   "execution_count": 16,
   "metadata": {
    "collapsed": true
   },
   "outputs": [],
   "source": [
    "from collections import Counter\n",
    "vocab_cnter = Counter(lexicon)"
   ]
  },
  {
   "cell_type": "code",
   "execution_count": 17,
   "metadata": {
    "collapsed": true
   },
   "outputs": [],
   "source": [
    "sorted_vocab = [x[0] for x in vocab_cnter.most_common()]"
   ]
  },
  {
   "cell_type": "code",
   "execution_count": 18,
   "metadata": {},
   "outputs": [
    {
     "data": {
      "text/plain": [
       "['good', 's', 'india', 'like', 'people', 'way', 't', 'quora', 'learn', 'life']"
      ]
     },
     "execution_count": 18,
     "metadata": {},
     "output_type": "execute_result"
    }
   ],
   "source": [
    "sorted_vocab[:10]"
   ]
  },
  {
   "cell_type": "code",
   "execution_count": 19,
   "metadata": {
    "collapsed": true
   },
   "outputs": [],
   "source": [
    "word2vec = []\n",
    "for word in sorted_vocab:\n",
    "    word2vec.append(nlp(word).vector)"
   ]
  },
  {
   "cell_type": "code",
   "execution_count": 20,
   "metadata": {},
   "outputs": [
    {
     "data": {
      "text/plain": [
       "77092"
      ]
     },
     "execution_count": 20,
     "metadata": {},
     "output_type": "execute_result"
    }
   ],
   "source": [
    "len(word2vec)"
   ]
  },
  {
   "cell_type": "code",
   "execution_count": 21,
   "metadata": {},
   "outputs": [
    {
     "data": {
      "text/plain": [
       "(77092, 300)"
      ]
     },
     "execution_count": 21,
     "metadata": {},
     "output_type": "execute_result"
    }
   ],
   "source": [
    "word2vec = np.array(word2vec)\n",
    "word2vec.shape"
   ]
  },
  {
   "cell_type": "code",
   "execution_count": 22,
   "metadata": {},
   "outputs": [
    {
     "name": "stdout",
     "output_type": "stream",
     "text": [
      "q1 processed\n"
     ]
    }
   ],
   "source": [
    "q1_inputs = generate_labels(df['q1_clean'],sorted_vocab,30,len(vocab))\n",
    "print('q1 processed')\n",
    "q2_inputs = generate_labels(df['q2_clean'],sorted_vocab,30,len(vocab))"
   ]
  },
  {
   "cell_type": "code",
   "execution_count": null,
   "metadata": {
    "collapsed": true
   },
   "outputs": [],
   "source": [
    "from keras.models import Model\n",
    "from keras.layers.core import Dropout, Dense, Flatten, Activation\n",
    "from keras.layers.embeddings import Embedding\n",
    "from keras.layers.wrappers import Bidirectional\n",
    "from keras.layers.recurrent import GRU,LSTM\n",
    "from keras.layers.pooling import MaxPooling2D\n",
    "from keras.layers import Concatenate,Input, concatenate\n",
    "from keras import backend as K\n",
    "\n",
    "\n",
    "def contrastive_loss(y_true, y_pred):\n",
    "    '''Contrastive loss from Hadsell-et-al.'06\n",
    "    http://yann.lecun.com/exdb/publis/pdf/hadsell-chopra-lecun-06.pdf\n",
    "    '''\n",
    "    margin = 1\n",
    "    return K.mean(y_true * K.square(y_pred) + (1 - y_true) * K.square(K.maximum(margin - y_pred, 0)))\n",
    "\n",
    "# Q1\n",
    "input_1 = Input(shape=(30,))\n",
    "embedd = Embedding(len(sorted_vocab),300,\n",
    "                        weights =[word2vec],\n",
    "                        name=\"Embedding_1\")\n",
    "embedding_1 = (embedd)(input_1)\n",
    "bi_gru_1 = Bidirectional(LSTM(200,name='LSTM_1',dropout=.8,recurrent_dropout=.8))(embedding_1)\n",
    "\n",
    "#Q2 \n",
    "input_2 = Input(shape=(30,))\n",
    "embedding_2 = (embedd)(input_2)\n",
    "bi_gru_2 = Bidirectional(LSTM(200,name=\"LSTM_2\",dropout=.8,recurrent_dropout=.8))(embedding_2)\n",
    "#Merge\n",
    "#concat = Concatenate(axis=1)\n",
    "merged = concatenate([bi_gru_1,bi_gru_2])\n",
    "#merged = (Flatten())(merged)\n",
    "#Dense\n",
    "dense = Dense(4098,activation='relu',name='dense')(merged)\n",
    "drop_1 = Dropout(.5,name='drop_1')(dense)\n",
    "dense_2 = Dense(1000,activation='relu',name='dense_2')(drop_1)\n",
    "drop_2 = Dropout(.5,name='drop_2')(dense_2)\n",
    "pred = Dense(2,activation=\"softmax\",name='pred')(drop_2)\n",
    "model = Model(inputs=[input_1,input_2],outputs=pred)\n",
    "# model = Sequential()\n",
    "# model.add(Embedding(len(vocab),64,input_length=sentence_len,name='Embedding_Input'))\n",
    "# model.add(Bidirectional(GRU(100,dropout=.5,name='GRU')))\n",
    "# model.add(Dense(1000,activation='relu',))"
   ]
  },
  {
   "cell_type": "code",
   "execution_count": 24,
   "metadata": {},
   "outputs": [
    {
     "data": {
      "text/plain": [
       "(404288, 30)"
      ]
     },
     "execution_count": 24,
     "metadata": {},
     "output_type": "execute_result"
    }
   ],
   "source": [
    "q1_inputs.shape"
   ]
  },
  {
   "cell_type": "code",
   "execution_count": 25,
   "metadata": {},
   "outputs": [
    {
     "data": {
      "text/plain": [
       "(404288, 30)"
      ]
     },
     "execution_count": 25,
     "metadata": {},
     "output_type": "execute_result"
    }
   ],
   "source": [
    "q2_inputs.shape"
   ]
  },
  {
   "cell_type": "code",
   "execution_count": 27,
   "metadata": {
    "collapsed": true
   },
   "outputs": [],
   "source": [
    "\n",
    "def contrastive_loss(y_true, y_pred):\n",
    "    '''Contrastive loss from Hadsell-et-al.'06\n",
    "    http://yann.lecun.com/exdb/publis/pdf/hadsell-chopra-lecun-06.pdf\n",
    "    '''\n",
    "    margin = 1\n",
    "    return K.mean(y_true * K.square(y_pred) + (1 - y_true) * K.square(K.maximum(margin - y_pred, 0)))\n"
   ]
  },
  {
   "cell_type": "code",
   "execution_count": null,
   "metadata": {},
   "outputs": [
    {
     "name": "stdout",
     "output_type": "stream",
     "text": [
      "Train on 363859 samples, validate on 40429 samples\n",
      "Epoch 1/30\n",
      "363859/363859 [==============================] - 351s - loss: 0.5601 - acc: 0.7176 - val_loss: 0.4949 - val_acc: 0.7626\n",
      "Epoch 2/30\n",
      "363859/363859 [==============================] - 346s - loss: 0.5006 - acc: 0.7579 - val_loss: 0.4702 - val_acc: 0.7696\n",
      "Epoch 3/30\n",
      "363859/363859 [==============================] - 346s - loss: 0.4721 - acc: 0.7731 - val_loss: 0.4653 - val_acc: 0.7716\n",
      "Epoch 4/30\n",
      "363859/363859 [==============================] - 345s - loss: 0.4495 - acc: 0.7841 - val_loss: 0.4817 - val_acc: 0.7735\n",
      "Epoch 5/30\n",
      "363859/363859 [==============================] - 347s - loss: 0.4330 - acc: 0.7920 - val_loss: 0.4603 - val_acc: 0.7745\n",
      "Epoch 6/30\n",
      "363859/363859 [==============================] - 346s - loss: 0.4185 - acc: 0.7993 - val_loss: 0.4660 - val_acc: 0.7765\n",
      "Epoch 7/30\n",
      "363859/363859 [==============================] - 348s - loss: 0.4079 - acc: 0.8054 - val_loss: 0.4664 - val_acc: 0.7773\n",
      "Epoch 8/30\n",
      "363859/363859 [==============================] - 346s - loss: 0.3974 - acc: 0.8092 - val_loss: 0.4780 - val_acc: 0.7808\n",
      "Epoch 9/30\n",
      "154880/363859 [===========>..................] - ETA: 198s - loss: 0.3854 - acc: 0.8150"
     ]
    }
   ],
   "source": [
    "from keras import optimizers\n",
    "adam = optimizers.Adam(lr=.001)\n",
    "model.compile(loss='categorical_crossentropy',optimizer=adam,metrics=['accuracy'])\n",
    "model.fit(x=[q1_inputs,q2_inputs],y=pd.get_dummies(df['is_duplicate']).values,batch_size=128,epochs=30,validation_split=.1)"
   ]
  }
 ],
 "metadata": {
  "anaconda-cloud": {},
  "kernelspec": {
   "display_name": "Python [conda root]",
   "language": "python",
   "name": "conda-root-py"
  },
  "language_info": {
   "codemirror_mode": {
    "name": "ipython",
    "version": 3
   },
   "file_extension": ".py",
   "mimetype": "text/x-python",
   "name": "python",
   "nbconvert_exporter": "python",
   "pygments_lexer": "ipython3",
   "version": "3.5.2"
  }
 },
 "nbformat": 4,
 "nbformat_minor": 1
}
